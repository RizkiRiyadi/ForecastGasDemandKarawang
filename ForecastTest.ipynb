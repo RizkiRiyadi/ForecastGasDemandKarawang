{
 "cells": [
  {
   "cell_type": "code",
   "execution_count": 131,
   "metadata": {},
   "outputs": [],
   "source": [
    "import pandas as pd\n",
    "import numpy as np\n",
    "import matplotlib.pyplot as plt\n",
    "from scipy.stats import normaltest\n",
    "from scipy.stats import norm\n",
    "import seaborn as sns\n",
    "from scipy import stats\n",
    "from scipy.stats import boxcox\n",
    "from scipy.stats import shapiro\n",
    "from scipy.stats import kstest"
   ]
  },
  {
   "cell_type": "code",
   "execution_count": 128,
   "metadata": {},
   "outputs": [
    {
     "name": "stdout",
     "output_type": "stream",
     "text": [
      "(30, 1)\n"
     ]
    },
    {
     "data": {
      "text/html": [
       "<div>\n",
       "<style scoped>\n",
       "    .dataframe tbody tr th:only-of-type {\n",
       "        vertical-align: middle;\n",
       "    }\n",
       "\n",
       "    .dataframe tbody tr th {\n",
       "        vertical-align: top;\n",
       "    }\n",
       "\n",
       "    .dataframe thead th {\n",
       "        text-align: right;\n",
       "    }\n",
       "</style>\n",
       "<table border=\"1\" class=\"dataframe\">\n",
       "  <thead>\n",
       "    <tr style=\"text-align: right;\">\n",
       "      <th></th>\n",
       "      <th>VOLUME</th>\n",
       "    </tr>\n",
       "    <tr>\n",
       "      <th>DATE</th>\n",
       "      <th></th>\n",
       "    </tr>\n",
       "  </thead>\n",
       "  <tbody>\n",
       "    <tr>\n",
       "      <th>2023-04-01</th>\n",
       "      <td>5.898559e+11</td>\n",
       "    </tr>\n",
       "    <tr>\n",
       "      <th>2023-04-02</th>\n",
       "      <td>1.393840e+12</td>\n",
       "    </tr>\n",
       "    <tr>\n",
       "      <th>2023-04-03</th>\n",
       "      <td>6.741405e+11</td>\n",
       "    </tr>\n",
       "    <tr>\n",
       "      <th>2023-04-04</th>\n",
       "      <td>1.136429e+12</td>\n",
       "    </tr>\n",
       "    <tr>\n",
       "      <th>2023-04-05</th>\n",
       "      <td>1.112963e+12</td>\n",
       "    </tr>\n",
       "  </tbody>\n",
       "</table>\n",
       "</div>"
      ],
      "text/plain": [
       "                  VOLUME\n",
       "DATE                    \n",
       "2023-04-01  5.898559e+11\n",
       "2023-04-02  1.393840e+12\n",
       "2023-04-03  6.741405e+11\n",
       "2023-04-04  1.136429e+12\n",
       "2023-04-05  1.112963e+12"
      ]
     },
     "execution_count": 128,
     "metadata": {},
     "output_type": "execute_result"
    }
   ],
   "source": [
    "df=pd.read_csv('KarawngMei.csv',sep=';', decimal=',', index_col='DATE', parse_dates=True, dayfirst=True)\n",
    "print(df.shape)\n",
    "df.head()"
   ]
  },
  {
   "attachments": {},
   "cell_type": "markdown",
   "metadata": {},
   "source": [
    "### Normality Test Shapiro-Wilk"
   ]
  },
  {
   "cell_type": "code",
   "execution_count": 119,
   "metadata": {},
   "outputs": [
    {
     "name": "stdout",
     "output_type": "stream",
     "text": [
      "Test Statistic: 0.9419540762901306\n",
      "p-value: 0.10268261283636093\n",
      "Data follows a normal distribution (fail to reject null hypothesis)\n"
     ]
    },
    {
     "data": {
      "image/png": "[encoded data removed]",
      "text/plain": [
       "<Figure size 800x600 with 1 Axes>"
      ]
     },
     "metadata": {},
     "output_type": "display_data"
    }
   ],
   "source": [
    "# Create a histogram\n",
    "plt.figure(figsize=(8, 6))\n",
    "sns.histplot(df['VOLUME'], kde=True, stat='density')\n",
    "plt.xlabel('Data')\n",
    "plt.ylabel('Density')\n",
    "plt.title('Histogram of Data')\n",
    "\n",
    "# Perform the Shapiro-Wilk normality test on the data\n",
    "statistic, p_value = shapiro(df['VOLUME'])\n",
    "\n",
    "# Set the significance level (alpha)\n",
    "alpha = 0.05\n",
    "\n",
    "# Print the test statistic and p-value\n",
    "print(\"Test Statistic:\", statistic)\n",
    "print(\"p-value:\", p_value)\n",
    "\n",
    "# Compare the p-value with the significance level\n",
    "if p_value > alpha:\n",
    "    print(\"Data follows a normal distribution (fail to reject null hypothesis)\")\n",
    "else:\n",
    "    print(\"Data does not follow a normal distribution (reject null hypothesis)\")"
   ]
  },
  {
   "cell_type": "code",
   "execution_count": 124,
   "metadata": {},
   "outputs": [
    {
     "data": {
      "text/html": [
       "<div>\n",
       "<style scoped>\n",
       "    .dataframe tbody tr th:only-of-type {\n",
       "        vertical-align: middle;\n",
       "    }\n",
       "\n",
       "    .dataframe tbody tr th {\n",
       "        vertical-align: top;\n",
       "    }\n",
       "\n",
       "    .dataframe thead th {\n",
       "        text-align: right;\n",
       "    }\n",
       "</style>\n",
       "<table border=\"1\" class=\"dataframe\">\n",
       "  <thead>\n",
       "    <tr style=\"text-align: right;\">\n",
       "      <th></th>\n",
       "      <th>VOLUME</th>\n",
       "      <th>Transformed_Value</th>\n",
       "    </tr>\n",
       "    <tr>\n",
       "      <th>DATE</th>\n",
       "      <th></th>\n",
       "      <th></th>\n",
       "    </tr>\n",
       "  </thead>\n",
       "  <tbody>\n",
       "    <tr>\n",
       "      <th>2023-04-01</th>\n",
       "      <td>5.898559e+11</td>\n",
       "      <td>5.544171e+08</td>\n",
       "    </tr>\n",
       "    <tr>\n",
       "      <th>2023-04-02</th>\n",
       "      <td>1.393840e+12</td>\n",
       "      <td>1.039806e+09</td>\n",
       "    </tr>\n",
       "    <tr>\n",
       "      <th>2023-04-03</th>\n",
       "      <td>6.741405e+11</td>\n",
       "      <td>6.113011e+08</td>\n",
       "    </tr>\n",
       "    <tr>\n",
       "      <th>2023-04-04</th>\n",
       "      <td>1.136429e+12</td>\n",
       "      <td>8.955874e+08</td>\n",
       "    </tr>\n",
       "    <tr>\n",
       "      <th>2023-04-05</th>\n",
       "      <td>1.112963e+12</td>\n",
       "      <td>8.820253e+08</td>\n",
       "    </tr>\n",
       "  </tbody>\n",
       "</table>\n",
       "</div>"
      ],
      "text/plain": [
       "                  VOLUME  Transformed_Value\n",
       "DATE                                       \n",
       "2023-04-01  5.898559e+11       5.544171e+08\n",
       "2023-04-02  1.393840e+12       1.039806e+09\n",
       "2023-04-03  6.741405e+11       6.113011e+08\n",
       "2023-04-04  1.136429e+12       8.955874e+08\n",
       "2023-04-05  1.112963e+12       8.820253e+08"
      ]
     },
     "execution_count": 124,
     "metadata": {},
     "output_type": "execute_result"
    }
   ],
   "source": [
    "# Apply Box-Cox transformation to the time series data\n",
    "transformed_data, lambda_ = boxcox(df['VOLUME'])\n",
    "\n",
    "# Create a new DataFrame with the transformed data\n",
    "transformed_df = pd.DataFrame({'Transformed_Value': transformed_data}, index=df.index)\n",
    "\n",
    "# Concatenate the original and transformed dataframes\n",
    "result_df = pd.concat([df, transformed_df], axis=1)\n",
    "\n",
    "# Print the combined DataFrame\n",
    "result_df.head()"
   ]
  },
  {
   "attachments": {},
   "cell_type": "markdown",
   "metadata": {},
   "source": [
    "### ACF & PACF"
   ]
  },
  {
   "cell_type": "code",
   "execution_count": 84,
   "metadata": {},
   "outputs": [
    {
     "data": {
      "image/png": "[encoded data removed]",
      "text/plain": [
       "<Figure size 640x480 with 1 Axes>"
      ]
     },
     "metadata": {},
     "output_type": "display_data"
    },
    {
     "data": {
      "image/png": "[encoded data removed]",
      "text/plain": [
       "<Figure size 640x480 with 1 Axes>"
      ]
     },
     "metadata": {},
     "output_type": "display_data"
    }
   ],
   "source": [
    "from statsmodels.graphics import tsaplots\n",
    "from statsmodels.graphics.tsaplots import plot_pacf\n",
    "import matplotlib.pyplot as plt\n",
    "\n",
    "\n",
    "#plot autocorrelation function\n",
    "fig = tsaplots.plot_acf(df)\n",
    "plt.show()\n",
    "\n",
    "#plot partial autocorrelation function (FIX THE LAGS)\n",
    "fig = tsaplots.plot_pacf(df['VOLUME'], lags=7)\n",
    "plt.show()"
   ]
  },
  {
   "cell_type": "code",
   "execution_count": 125,
   "metadata": {},
   "outputs": [
    {
     "data": {
      "text/plain": [
       "<Axes: xlabel='DATE'>"
      ]
     },
     "execution_count": 125,
     "metadata": {},
     "output_type": "execute_result"
    },
    {
     "data": {
      "image/png": "[encoded data removed]",
      "text/plain": [
       "<Figure size 1200x500 with 1 Axes>"
      ]
     },
     "metadata": {},
     "output_type": "display_data"
    }
   ],
   "source": [
    "df['VOLUME'].plot(figsize=(12,5))"
   ]
  },
  {
   "cell_type": "code",
   "execution_count": 72,
   "metadata": {},
   "outputs": [
    {
     "name": "stdout",
     "output_type": "stream",
     "text": [
      "1. ADF:  -0.9641451853040517\n",
      "2. P-Value :  2\n",
      "3. Num Of Lags : 2\n",
      "4. Num Of Observations Used For ADF Regression: 27\n",
      "5. Critcal Values : \n",
      "\t 1% :  -3.6996079738860943\n",
      "\t 5% :  -2.9764303469999494\n",
      "\t 10% :  -2.627601001371742\n"
     ]
    }
   ],
   "source": [
    "from statsmodels.tsa.stattools import adfuller\n",
    "\n",
    "def adf_test(df):\n",
    "    dftest = adfuller(df, autolag = 'AIC')\n",
    "    print(\"1. ADF: \", dftest[0])\n",
    "    print(\"2. P-Value : \", dftest[2])\n",
    "    print(\"3. Num Of Lags :\", dftest[2])\n",
    "    print(\"4. Num Of Observations Used For ADF Regression:\",dftest[3])\n",
    "    print(\"5. Critcal Values : \")\n",
    "    for key, val in dftest[4].items():\n",
    "        print(\"\\t\",key, \": \", val)\n",
    "adf_test(df)"
   ]
  },
  {
   "cell_type": "code",
   "execution_count": 75,
   "metadata": {},
   "outputs": [
    {
     "name": "stdout",
     "output_type": "stream",
     "text": [
      "                  VOLUME    DIFFERENCE\n",
      "DATE                                  \n",
      "2023-04-02  1.393840e+12  8.039837e+11\n",
      "2023-04-03  6.741405e+11 -7.196991e+11\n",
      "2023-04-04  1.136429e+12  4.622890e+11\n",
      "2023-04-05  1.112963e+12 -2.346681e+10\n",
      "2023-04-06  1.108114e+12 -4.849054e+09\n",
      "2023-04-07  9.712096e+11 -1.369040e+11\n",
      "2023-04-08  1.046534e+12  7.532473e+10\n",
      "2023-04-09  1.076719e+12  3.018461e+10\n",
      "2023-04-10  9.465019e+11 -1.302171e+11\n",
      "2023-04-11  1.092377e+12  1.458747e+11\n",
      "2023-04-12  1.193357e+12  1.009800e+11\n",
      "2023-04-13  6.298570e+11 -5.634996e+11\n",
      "2023-04-14  1.302088e+12  6.722308e+11\n",
      "2023-04-15  1.388624e+12  8.653608e+10\n",
      "2023-04-16  1.783311e+11 -1.210293e+12\n",
      "2023-04-17  1.033457e+12  8.551259e+11\n",
      "2023-04-18  6.792925e+11 -3.541644e+11\n",
      "2023-04-19  6.388728e+11 -4.041970e+10\n",
      "2023-04-20  4.410899e+11 -1.977829e+11\n",
      "2023-04-21  1.626229e+11 -2.784670e+11\n",
      "2023-04-22  1.648730e+11  2.250140e+09\n",
      "2023-04-23  2.952383e+11  1.303653e+11\n",
      "2023-04-24  4.166581e+11  1.214198e+11\n",
      "2023-04-25  3.981080e+11 -1.855005e+10\n",
      "2023-04-26  2.530285e+11 -1.450795e+11\n",
      "2023-04-27  6.618912e+11  4.088627e+11\n",
      "2023-04-28  5.875046e+11 -7.438666e+10\n",
      "2023-04-29  8.096150e+11  2.221104e+11\n",
      "2023-04-30  3.520326e+11 -4.575824e+11\n"
     ]
    }
   ],
   "source": [
    "df['DIFFERENCE'] = df['VOLUME'].diff()\n",
    "df = df.dropna()\n",
    "print(df)"
   ]
  },
  {
   "cell_type": "code",
   "execution_count": 76,
   "metadata": {},
   "outputs": [
    {
     "data": {
      "text/html": [
       "<div>\n",
       "<style scoped>\n",
       "    .dataframe tbody tr th:only-of-type {\n",
       "        vertical-align: middle;\n",
       "    }\n",
       "\n",
       "    .dataframe tbody tr th {\n",
       "        vertical-align: top;\n",
       "    }\n",
       "\n",
       "    .dataframe thead th {\n",
       "        text-align: right;\n",
       "    }\n",
       "</style>\n",
       "<table border=\"1\" class=\"dataframe\">\n",
       "  <thead>\n",
       "    <tr style=\"text-align: right;\">\n",
       "      <th></th>\n",
       "      <th>VOLUME</th>\n",
       "    </tr>\n",
       "    <tr>\n",
       "      <th>DATE</th>\n",
       "      <th></th>\n",
       "    </tr>\n",
       "  </thead>\n",
       "  <tbody>\n",
       "    <tr>\n",
       "      <th>2023-04-02</th>\n",
       "      <td>8.039837e+11</td>\n",
       "    </tr>\n",
       "    <tr>\n",
       "      <th>2023-04-03</th>\n",
       "      <td>-7.196991e+11</td>\n",
       "    </tr>\n",
       "    <tr>\n",
       "      <th>2023-04-04</th>\n",
       "      <td>4.622890e+11</td>\n",
       "    </tr>\n",
       "    <tr>\n",
       "      <th>2023-04-05</th>\n",
       "      <td>-2.346681e+10</td>\n",
       "    </tr>\n",
       "    <tr>\n",
       "      <th>2023-04-06</th>\n",
       "      <td>-4.849054e+09</td>\n",
       "    </tr>\n",
       "    <tr>\n",
       "      <th>2023-04-07</th>\n",
       "      <td>-1.369040e+11</td>\n",
       "    </tr>\n",
       "    <tr>\n",
       "      <th>2023-04-08</th>\n",
       "      <td>7.532473e+10</td>\n",
       "    </tr>\n",
       "    <tr>\n",
       "      <th>2023-04-09</th>\n",
       "      <td>3.018461e+10</td>\n",
       "    </tr>\n",
       "    <tr>\n",
       "      <th>2023-04-10</th>\n",
       "      <td>-1.302171e+11</td>\n",
       "    </tr>\n",
       "    <tr>\n",
       "      <th>2023-04-11</th>\n",
       "      <td>1.458747e+11</td>\n",
       "    </tr>\n",
       "    <tr>\n",
       "      <th>2023-04-12</th>\n",
       "      <td>1.009800e+11</td>\n",
       "    </tr>\n",
       "    <tr>\n",
       "      <th>2023-04-13</th>\n",
       "      <td>-5.634996e+11</td>\n",
       "    </tr>\n",
       "    <tr>\n",
       "      <th>2023-04-14</th>\n",
       "      <td>6.722308e+11</td>\n",
       "    </tr>\n",
       "    <tr>\n",
       "      <th>2023-04-15</th>\n",
       "      <td>8.653608e+10</td>\n",
       "    </tr>\n",
       "    <tr>\n",
       "      <th>2023-04-16</th>\n",
       "      <td>-1.210293e+12</td>\n",
       "    </tr>\n",
       "    <tr>\n",
       "      <th>2023-04-17</th>\n",
       "      <td>8.551259e+11</td>\n",
       "    </tr>\n",
       "    <tr>\n",
       "      <th>2023-04-18</th>\n",
       "      <td>-3.541644e+11</td>\n",
       "    </tr>\n",
       "    <tr>\n",
       "      <th>2023-04-19</th>\n",
       "      <td>-4.041970e+10</td>\n",
       "    </tr>\n",
       "    <tr>\n",
       "      <th>2023-04-20</th>\n",
       "      <td>-1.977829e+11</td>\n",
       "    </tr>\n",
       "    <tr>\n",
       "      <th>2023-04-21</th>\n",
       "      <td>-2.784670e+11</td>\n",
       "    </tr>\n",
       "    <tr>\n",
       "      <th>2023-04-22</th>\n",
       "      <td>2.250140e+09</td>\n",
       "    </tr>\n",
       "    <tr>\n",
       "      <th>2023-04-23</th>\n",
       "      <td>1.303653e+11</td>\n",
       "    </tr>\n",
       "    <tr>\n",
       "      <th>2023-04-24</th>\n",
       "      <td>1.214198e+11</td>\n",
       "    </tr>\n",
       "    <tr>\n",
       "      <th>2023-04-25</th>\n",
       "      <td>-1.855005e+10</td>\n",
       "    </tr>\n",
       "    <tr>\n",
       "      <th>2023-04-26</th>\n",
       "      <td>-1.450795e+11</td>\n",
       "    </tr>\n",
       "    <tr>\n",
       "      <th>2023-04-27</th>\n",
       "      <td>4.088627e+11</td>\n",
       "    </tr>\n",
       "    <tr>\n",
       "      <th>2023-04-28</th>\n",
       "      <td>-7.438666e+10</td>\n",
       "    </tr>\n",
       "    <tr>\n",
       "      <th>2023-04-29</th>\n",
       "      <td>2.221104e+11</td>\n",
       "    </tr>\n",
       "    <tr>\n",
       "      <th>2023-04-30</th>\n",
       "      <td>-4.575824e+11</td>\n",
       "    </tr>\n",
       "  </tbody>\n",
       "</table>\n",
       "</div>"
      ],
      "text/plain": [
       "                  VOLUME\n",
       "DATE                    \n",
       "2023-04-02  8.039837e+11\n",
       "2023-04-03 -7.196991e+11\n",
       "2023-04-04  4.622890e+11\n",
       "2023-04-05 -2.346681e+10\n",
       "2023-04-06 -4.849054e+09\n",
       "2023-04-07 -1.369040e+11\n",
       "2023-04-08  7.532473e+10\n",
       "2023-04-09  3.018461e+10\n",
       "2023-04-10 -1.302171e+11\n",
       "2023-04-11  1.458747e+11\n",
       "2023-04-12  1.009800e+11\n",
       "2023-04-13 -5.634996e+11\n",
       "2023-04-14  6.722308e+11\n",
       "2023-04-15  8.653608e+10\n",
       "2023-04-16 -1.210293e+12\n",
       "2023-04-17  8.551259e+11\n",
       "2023-04-18 -3.541644e+11\n",
       "2023-04-19 -4.041970e+10\n",
       "2023-04-20 -1.977829e+11\n",
       "2023-04-21 -2.784670e+11\n",
       "2023-04-22  2.250140e+09\n",
       "2023-04-23  1.303653e+11\n",
       "2023-04-24  1.214198e+11\n",
       "2023-04-25 -1.855005e+10\n",
       "2023-04-26 -1.450795e+11\n",
       "2023-04-27  4.088627e+11\n",
       "2023-04-28 -7.438666e+10\n",
       "2023-04-29  2.221104e+11\n",
       "2023-04-30 -4.575824e+11"
      ]
     },
     "execution_count": 76,
     "metadata": {},
     "output_type": "execute_result"
    }
   ],
   "source": [
    "df_dif = pd.DataFrame(df)\n",
    "df = df.drop('VOLUME', axis=1)\n",
    "df = df.rename(columns={'DIFFERENCE': 'VOLUME'})\n",
    "df"
   ]
  },
  {
   "cell_type": "code",
   "execution_count": 77,
   "metadata": {},
   "outputs": [
    {
     "name": "stdout",
     "output_type": "stream",
     "text": [
      "1. ADF:  -7.217737014291421\n",
      "2. P-Value :  1\n",
      "3. Num Of Lags : 1\n",
      "4. Num Of Observations Used For ADF Regression: 27\n",
      "5. Critcal Values : \n",
      "\t 1% :  -3.6996079738860943\n",
      "\t 5% :  -2.9764303469999494\n",
      "\t 10% :  -2.627601001371742\n"
     ]
    }
   ],
   "source": [
    "from statsmodels.tsa.stattools import adfuller\n",
    "\n",
    "def adf_test(df):\n",
    "    dftest = adfuller(df, autolag = 'AIC')\n",
    "    print(\"1. ADF: \", dftest[0])\n",
    "    print(\"2. P-Value : \", dftest[2])\n",
    "    print(\"3. Num Of Lags :\", dftest[2])\n",
    "    print(\"4. Num Of Observations Used For ADF Regression:\",dftest[3])\n",
    "    print(\"5. Critcal Values : \")\n",
    "    for key, val in dftest[4].items():\n",
    "        print(\"\\t\",key, \": \", val)\n",
    "adf_test(df)"
   ]
  },
  {
   "attachments": {},
   "cell_type": "markdown",
   "metadata": {},
   "source": [
    "## **ARIMA**"
   ]
  },
  {
   "cell_type": "code",
   "execution_count": null,
   "metadata": {},
   "outputs": [],
   "source": [
    "#membuat test dataset\n",
    "print(df.shape)\n",
    "train=df.iloc[:-30]\n",
    "test=df.iloc[-30:]\n",
    "print(train.shape,test.shape)"
   ]
  },
  {
   "cell_type": "code",
   "execution_count": 92,
   "metadata": {},
   "outputs": [
    {
     "name": "stdout",
     "output_type": "stream",
     "text": [
      "Performing stepwise search to minimize aic\n",
      " ARIMA(0,1,0)(0,0,0)[0] intercept   : AIC=1638.787, Time=0.05 sec\n",
      " ARIMA(1,1,0)(0,0,0)[0] intercept   : AIC=1636.148, Time=0.17 sec\n",
      " ARIMA(0,1,1)(0,0,0)[0] intercept   : AIC=1635.480, Time=0.11 sec\n",
      " ARIMA(0,1,0)(0,0,0)[0]             : AIC=1636.814, Time=0.05 sec\n",
      " ARIMA(1,1,1)(0,0,0)[0] intercept   : AIC=1636.076, Time=0.12 sec\n",
      " ARIMA(0,1,2)(0,0,0)[0] intercept   : AIC=1630.837, Time=0.38 sec\n",
      " ARIMA(1,1,2)(0,0,0)[0] intercept   : AIC=1632.123, Time=0.51 sec\n",
      " ARIMA(0,1,3)(0,0,0)[0] intercept   : AIC=1628.432, Time=0.33 sec\n",
      " ARIMA(1,1,3)(0,0,0)[0] intercept   : AIC=1629.178, Time=0.55 sec\n",
      " ARIMA(0,1,4)(0,0,0)[0] intercept   : AIC=inf, Time=0.90 sec\n",
      " ARIMA(1,1,4)(0,0,0)[0] intercept   : AIC=inf, Time=1.40 sec\n",
      " ARIMA(0,1,3)(0,0,0)[0]             : AIC=1626.309, Time=0.45 sec\n",
      " ARIMA(0,1,2)(0,0,0)[0]             : AIC=1626.929, Time=0.16 sec\n",
      " ARIMA(1,1,3)(0,0,0)[0]             : AIC=1626.964, Time=0.55 sec\n",
      " ARIMA(0,1,4)(0,0,0)[0]             : AIC=inf, Time=0.65 sec\n",
      " ARIMA(1,1,2)(0,0,0)[0]             : AIC=1628.004, Time=0.55 sec\n",
      " ARIMA(1,1,4)(0,0,0)[0]             : AIC=inf, Time=1.23 sec\n",
      "\n",
      "Best model:  ARIMA(0,1,3)(0,0,0)[0]          \n",
      "Total fit time: 8.201 seconds\n"
     ]
    },
    {
     "data": {
      "text/html": [
       "<table class=\"simpletable\">\n",
       "<caption>SARIMAX Results</caption>\n",
       "<tr>\n",
       "  <th>Dep. Variable:</th>           <td>y</td>        <th>  No. Observations:  </th>    <td>30</td>   \n",
       "</tr>\n",
       "<tr>\n",
       "  <th>Model:</th>           <td>SARIMAX(0, 1, 3)</td> <th>  Log Likelihood     </th> <td>-809.154</td>\n",
       "</tr>\n",
       "<tr>\n",
       "  <th>Date:</th>            <td>Sun, 25 Jun 2023</td> <th>  AIC                </th> <td>1626.309</td>\n",
       "</tr>\n",
       "<tr>\n",
       "  <th>Time:</th>                <td>20:07:50</td>     <th>  BIC                </th> <td>1631.778</td>\n",
       "</tr>\n",
       "<tr>\n",
       "  <th>Sample:</th>             <td>04-01-2023</td>    <th>  HQIC               </th> <td>1628.022</td>\n",
       "</tr>\n",
       "<tr>\n",
       "  <th></th>                   <td>- 04-30-2023</td>   <th>                     </th>     <td> </td>   \n",
       "</tr>\n",
       "<tr>\n",
       "  <th>Covariance Type:</th>        <td>opg</td>       <th>                     </th>     <td> </td>   \n",
       "</tr>\n",
       "</table>\n",
       "<table class=\"simpletable\">\n",
       "<tr>\n",
       "     <td></td>       <th>coef</th>     <th>std err</th>      <th>z</th>      <th>P>|z|</th>  <th>[0.025</th>    <th>0.975]</th>  \n",
       "</tr>\n",
       "<tr>\n",
       "  <th>ma.L1</th>  <td>   -0.7294</td> <td>    0.292</td> <td>   -2.502</td> <td> 0.012</td> <td>   -1.301</td> <td>   -0.158</td>\n",
       "</tr>\n",
       "<tr>\n",
       "  <th>ma.L2</th>  <td>    0.3749</td> <td>    0.380</td> <td>    0.986</td> <td> 0.324</td> <td>   -0.370</td> <td>    1.120</td>\n",
       "</tr>\n",
       "<tr>\n",
       "  <th>ma.L3</th>  <td>    0.4572</td> <td>    0.212</td> <td>    2.154</td> <td> 0.031</td> <td>    0.041</td> <td>    0.873</td>\n",
       "</tr>\n",
       "<tr>\n",
       "  <th>sigma2</th> <td> 1.008e+23</td> <td>      nan</td> <td>      nan</td> <td>   nan</td> <td>      nan</td> <td>      nan</td>\n",
       "</tr>\n",
       "</table>\n",
       "<table class=\"simpletable\">\n",
       "<tr>\n",
       "  <th>Ljung-Box (L1) (Q):</th>     <td>0.90</td> <th>  Jarque-Bera (JB):  </th> <td>3.11</td>\n",
       "</tr>\n",
       "<tr>\n",
       "  <th>Prob(Q):</th>                <td>0.34</td> <th>  Prob(JB):          </th> <td>0.21</td>\n",
       "</tr>\n",
       "<tr>\n",
       "  <th>Heteroskedasticity (H):</th> <td>0.59</td> <th>  Skew:              </th> <td>0.23</td>\n",
       "</tr>\n",
       "<tr>\n",
       "  <th>Prob(H) (two-sided):</th>    <td>0.42</td> <th>  Kurtosis:          </th> <td>4.54</td>\n",
       "</tr>\n",
       "</table><br/><br/>Warnings:<br/>[1] Covariance matrix calculated using the outer product of gradients (complex-step).<br/>[2] Covariance matrix is singular or near-singular, with condition number 7.53e+62. Standard errors may be unstable."
      ],
      "text/plain": [
       "<class 'statsmodels.iolib.summary.Summary'>\n",
       "\"\"\"\n",
       "                               SARIMAX Results                                \n",
       "==============================================================================\n",
       "Dep. Variable:                      y   No. Observations:                   30\n",
       "Model:               SARIMAX(0, 1, 3)   Log Likelihood                -809.154\n",
       "Date:                Sun, 25 Jun 2023   AIC                           1626.309\n",
       "Time:                        20:07:50   BIC                           1631.778\n",
       "Sample:                    04-01-2023   HQIC                          1628.022\n",
       "                         - 04-30-2023                                         \n",
       "Covariance Type:                  opg                                         \n",
       "==============================================================================\n",
       "                 coef    std err          z      P>|z|      [0.025      0.975]\n",
       "------------------------------------------------------------------------------\n",
       "ma.L1         -0.7294      0.292     -2.502      0.012      -1.301      -0.158\n",
       "ma.L2          0.3749      0.380      0.986      0.324      -0.370       1.120\n",
       "ma.L3          0.4572      0.212      2.154      0.031       0.041       0.873\n",
       "sigma2      1.008e+23        nan        nan        nan         nan         nan\n",
       "===================================================================================\n",
       "Ljung-Box (L1) (Q):                   0.90   Jarque-Bera (JB):                 3.11\n",
       "Prob(Q):                              0.34   Prob(JB):                         0.21\n",
       "Heteroskedasticity (H):               0.59   Skew:                             0.23\n",
       "Prob(H) (two-sided):                  0.42   Kurtosis:                         4.54\n",
       "===================================================================================\n",
       "\n",
       "Warnings:\n",
       "[1] Covariance matrix calculated using the outer product of gradients (complex-step).\n",
       "[2] Covariance matrix is singular or near-singular, with condition number 7.53e+62. Standard errors may be unstable.\n",
       "\"\"\""
      ]
     },
     "execution_count": 92,
     "metadata": {},
     "output_type": "execute_result"
    }
   ],
   "source": [
    "from pmdarima import auto_arima\n",
    "arima = auto_arima(df, start_p=0, start_q=0,\n",
    "                           seasonal=False, trace=True,\n",
    "                           error_action='ignore',  \n",
    "                           suppress_warnings=True, \n",
    "                           stepwise=True)\n",
    "\n",
    "arima.summary()"
   ]
  },
  {
   "cell_type": "code",
   "execution_count": null,
   "metadata": {},
   "outputs": [],
   "source": [
    "print(df.shape)\n",
    "train_sarima=df.iloc[:-30]\n",
    "test_sarima=df.iloc[-30:]\n",
    "print(train_sarima.shape,test_sarima.shape)"
   ]
  },
  {
   "cell_type": "code",
   "execution_count": null,
   "metadata": {},
   "outputs": [],
   "source": [
    "start=len(train)\n",
    "end=len(train)+len(test)-1\n",
    "pred=model.predict(start=start,end=end,typ='levels').rename('ARIMA Predictions')\n",
    "\n",
    "pred_arima=pd.DataFrame(pred)\n",
    "pred_arima=pd.concat([df,pred],axis=1)\n",
    "pred_arima"
   ]
  },
  {
   "attachments": {},
   "cell_type": "markdown",
   "metadata": {},
   "source": [
    "## **SARIMA**"
   ]
  },
  {
   "cell_type": "code",
   "execution_count": 134,
   "metadata": {},
   "outputs": [
    {
     "name": "stdout",
     "output_type": "stream",
     "text": [
      "Performing stepwise search to minimize aic\n",
      " ARIMA(0,1,2)(1,0,1)[7] intercept   : AIC=1633.699, Time=0.50 sec\n",
      " ARIMA(0,1,0)(0,0,0)[7] intercept   : AIC=1638.787, Time=0.03 sec\n",
      " ARIMA(1,1,0)(1,0,0)[7] intercept   : AIC=1637.731, Time=0.10 sec\n",
      " ARIMA(0,1,1)(0,0,1)[7] intercept   : AIC=1636.806, Time=0.09 sec\n",
      " ARIMA(0,1,0)(0,0,0)[7]             : AIC=1636.814, Time=0.04 sec\n",
      " ARIMA(0,1,2)(0,0,1)[7] intercept   : AIC=1631.918, Time=0.30 sec\n",
      " ARIMA(0,1,2)(0,0,0)[7] intercept   : AIC=1630.837, Time=0.25 sec\n",
      " ARIMA(0,1,2)(1,0,0)[7] intercept   : AIC=1631.741, Time=0.33 sec\n",
      " ARIMA(0,1,1)(0,0,0)[7] intercept   : AIC=1635.480, Time=0.07 sec\n",
      " ARIMA(1,1,2)(0,0,0)[7] intercept   : AIC=1632.123, Time=0.36 sec\n",
      " ARIMA(0,1,3)(0,0,0)[7] intercept   : AIC=1628.432, Time=0.23 sec\n",
      " ARIMA(0,1,3)(1,0,0)[7] intercept   : AIC=1630.213, Time=0.56 sec\n",
      " ARIMA(0,1,3)(0,0,1)[7] intercept   : AIC=1630.012, Time=0.51 sec\n",
      " ARIMA(0,1,3)(1,0,1)[7] intercept   : AIC=1631.579, Time=0.65 sec\n",
      " ARIMA(1,1,3)(0,0,0)[7] intercept   : AIC=1629.178, Time=0.37 sec\n",
      " ARIMA(0,1,4)(0,0,0)[7] intercept   : AIC=inf, Time=4.86 sec\n",
      " ARIMA(1,1,4)(0,0,0)[7] intercept   : AIC=inf, Time=0.96 sec\n",
      " ARIMA(0,1,3)(0,0,0)[7]             : AIC=1626.309, Time=0.44 sec\n",
      " ARIMA(0,1,3)(1,0,0)[7]             : AIC=1628.106, Time=0.39 sec\n",
      " ARIMA(0,1,3)(0,0,1)[7]             : AIC=1627.883, Time=0.39 sec\n",
      " ARIMA(0,1,3)(1,0,1)[7]             : AIC=1629.048, Time=0.47 sec\n",
      " ARIMA(0,1,2)(0,0,0)[7]             : AIC=1626.929, Time=0.09 sec\n",
      " ARIMA(1,1,3)(0,0,0)[7]             : AIC=1626.964, Time=0.22 sec\n",
      " ARIMA(0,1,4)(0,0,0)[7]             : AIC=inf, Time=0.27 sec\n",
      " ARIMA(1,1,2)(0,0,0)[7]             : AIC=1628.004, Time=0.21 sec\n",
      " ARIMA(1,1,4)(0,0,0)[7]             : AIC=inf, Time=0.55 sec\n",
      "\n",
      "Best model:  ARIMA(0,1,3)(0,0,0)[7]          \n",
      "Total fit time: 13.631 seconds\n"
     ]
    },
    {
     "data": {
      "text/html": [
       "<table class=\"simpletable\">\n",
       "<caption>SARIMAX Results</caption>\n",
       "<tr>\n",
       "  <th>Dep. Variable:</th>           <td>y</td>        <th>  No. Observations:  </th>    <td>30</td>   \n",
       "</tr>\n",
       "<tr>\n",
       "  <th>Model:</th>           <td>SARIMAX(0, 1, 3)</td> <th>  Log Likelihood     </th> <td>-809.154</td>\n",
       "</tr>\n",
       "<tr>\n",
       "  <th>Date:</th>            <td>Mon, 26 Jun 2023</td> <th>  AIC                </th> <td>1626.309</td>\n",
       "</tr>\n",
       "<tr>\n",
       "  <th>Time:</th>                <td>03:09:41</td>     <th>  BIC                </th> <td>1631.778</td>\n",
       "</tr>\n",
       "<tr>\n",
       "  <th>Sample:</th>             <td>04-01-2023</td>    <th>  HQIC               </th> <td>1628.022</td>\n",
       "</tr>\n",
       "<tr>\n",
       "  <th></th>                   <td>- 04-30-2023</td>   <th>                     </th>     <td> </td>   \n",
       "</tr>\n",
       "<tr>\n",
       "  <th>Covariance Type:</th>        <td>opg</td>       <th>                     </th>     <td> </td>   \n",
       "</tr>\n",
       "</table>\n",
       "<table class=\"simpletable\">\n",
       "<tr>\n",
       "     <td></td>       <th>coef</th>     <th>std err</th>      <th>z</th>      <th>P>|z|</th>  <th>[0.025</th>    <th>0.975]</th>  \n",
       "</tr>\n",
       "<tr>\n",
       "  <th>ma.L1</th>  <td>   -0.7294</td> <td>    0.292</td> <td>   -2.502</td> <td> 0.012</td> <td>   -1.301</td> <td>   -0.158</td>\n",
       "</tr>\n",
       "<tr>\n",
       "  <th>ma.L2</th>  <td>    0.3749</td> <td>    0.380</td> <td>    0.986</td> <td> 0.324</td> <td>   -0.370</td> <td>    1.120</td>\n",
       "</tr>\n",
       "<tr>\n",
       "  <th>ma.L3</th>  <td>    0.4572</td> <td>    0.212</td> <td>    2.154</td> <td> 0.031</td> <td>    0.041</td> <td>    0.873</td>\n",
       "</tr>\n",
       "<tr>\n",
       "  <th>sigma2</th> <td> 1.008e+23</td> <td>      nan</td> <td>      nan</td> <td>   nan</td> <td>      nan</td> <td>      nan</td>\n",
       "</tr>\n",
       "</table>\n",
       "<table class=\"simpletable\">\n",
       "<tr>\n",
       "  <th>Ljung-Box (L1) (Q):</th>     <td>0.90</td> <th>  Jarque-Bera (JB):  </th> <td>3.11</td>\n",
       "</tr>\n",
       "<tr>\n",
       "  <th>Prob(Q):</th>                <td>0.34</td> <th>  Prob(JB):          </th> <td>0.21</td>\n",
       "</tr>\n",
       "<tr>\n",
       "  <th>Heteroskedasticity (H):</th> <td>0.59</td> <th>  Skew:              </th> <td>0.23</td>\n",
       "</tr>\n",
       "<tr>\n",
       "  <th>Prob(H) (two-sided):</th>    <td>0.42</td> <th>  Kurtosis:          </th> <td>4.54</td>\n",
       "</tr>\n",
       "</table><br/><br/>Warnings:<br/>[1] Covariance matrix calculated using the outer product of gradients (complex-step).<br/>[2] Covariance matrix is singular or near-singular, with condition number 7.53e+62. Standard errors may be unstable."
      ],
      "text/plain": [
       "<class 'statsmodels.iolib.summary.Summary'>\n",
       "\"\"\"\n",
       "                               SARIMAX Results                                \n",
       "==============================================================================\n",
       "Dep. Variable:                      y   No. Observations:                   30\n",
       "Model:               SARIMAX(0, 1, 3)   Log Likelihood                -809.154\n",
       "Date:                Mon, 26 Jun 2023   AIC                           1626.309\n",
       "Time:                        03:09:41   BIC                           1631.778\n",
       "Sample:                    04-01-2023   HQIC                          1628.022\n",
       "                         - 04-30-2023                                         \n",
       "Covariance Type:                  opg                                         \n",
       "==============================================================================\n",
       "                 coef    std err          z      P>|z|      [0.025      0.975]\n",
       "------------------------------------------------------------------------------\n",
       "ma.L1         -0.7294      0.292     -2.502      0.012      -1.301      -0.158\n",
       "ma.L2          0.3749      0.380      0.986      0.324      -0.370       1.120\n",
       "ma.L3          0.4572      0.212      2.154      0.031       0.041       0.873\n",
       "sigma2      1.008e+23        nan        nan        nan         nan         nan\n",
       "===================================================================================\n",
       "Ljung-Box (L1) (Q):                   0.90   Jarque-Bera (JB):                 3.11\n",
       "Prob(Q):                              0.34   Prob(JB):                         0.21\n",
       "Heteroskedasticity (H):               0.59   Skew:                             0.23\n",
       "Prob(H) (two-sided):                  0.42   Kurtosis:                         4.54\n",
       "===================================================================================\n",
       "\n",
       "Warnings:\n",
       "[1] Covariance matrix calculated using the outer product of gradients (complex-step).\n",
       "[2] Covariance matrix is singular or near-singular, with condition number 7.53e+62. Standard errors may be unstable.\n",
       "\"\"\""
      ]
     },
     "execution_count": 134,
     "metadata": {},
     "output_type": "execute_result"
    }
   ],
   "source": [
    "from pmdarima import auto_arima\n",
    "sarima = auto_arima(df, start_p=0,start_q=2,max_p=5,max_q=5,m=7,\n",
    "                           trace=True,\n",
    "                           error_action='ignore',  \n",
    "                           suppress_warnings=True, \n",
    "                           stepwise=True)\n",
    "\n",
    "sarima.summary()"
   ]
  },
  {
   "cell_type": "code",
   "execution_count": 138,
   "metadata": {},
   "outputs": [
    {
     "name": "stderr",
     "output_type": "stream",
     "text": [
      "c:\\Users\\rizki\\AppData\\Local\\Programs\\Python\\Python311\\Lib\\site-packages\\statsmodels\\tsa\\base\\tsa_model.py:471: ValueWarning: No frequency information was provided, so inferred frequency D will be used.\n",
      "  self._init_dates(dates, freq)\n",
      "c:\\Users\\rizki\\AppData\\Local\\Programs\\Python\\Python311\\Lib\\site-packages\\statsmodels\\tsa\\base\\tsa_model.py:471: ValueWarning: No frequency information was provided, so inferred frequency D will be used.\n",
      "  self._init_dates(dates, freq)\n",
      "c:\\Users\\rizki\\AppData\\Local\\Programs\\Python\\Python311\\Lib\\site-packages\\statsmodels\\tsa\\base\\tsa_model.py:471: ValueWarning: No frequency information was provided, so inferred frequency D will be used.\n",
      "  self._init_dates(dates, freq)\n",
      "c:\\Users\\rizki\\AppData\\Local\\Programs\\Python\\Python311\\Lib\\site-packages\\statsmodels\\base\\model.py:604: ConvergenceWarning: Maximum Likelihood optimization failed to converge. Check mle_retvals\n",
      "  warnings.warn(\"Maximum Likelihood optimization failed to \"\n"
     ]
    }
   ],
   "source": [
    "import statsmodels.api as sm\n",
    "\n",
    "\n",
    "# Define the ARIMA model with the appropriate p, d, and q values\n",
    "model = sm.tsa.ARIMA(df['VOLUME'], order=(1, 1, 4))\n",
    "\n",
    "# Fit the ARIMA model using maximum likelihood estimation\n",
    "results = model.fit()\n",
    "\n",
    "# Obtain the parameter estimates\n",
    "parameter_estimates = results.params"
   ]
  }
 ],
 "metadata": {
  "kernelspec": {
   "display_name": "Python 3",
   "language": "python",
   "name": "python3"
  },
  "language_info": {
   "codemirror_mode": {
    "name": "ipython",
    "version": 3
   },
   "file_extension": ".py",
   "mimetype": "text/x-python",
   "name": "python",
   "nbconvert_exporter": "python",
   "pygments_lexer": "ipython3",
   "version": "3.11.2"
  },
  "orig_nbformat": 4
 },
 "nbformat": 4,
 "nbformat_minor": 2
}
